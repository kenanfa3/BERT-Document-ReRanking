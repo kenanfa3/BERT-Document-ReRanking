{
  "nbformat": 4,
  "nbformat_minor": 0,
  "metadata": {
    "colab": {
      "name": "Document Re-ranking using BERT.ipynb",
      "provenance": []
    },
    "kernelspec": {
      "name": "python3",
      "display_name": "Python 3"
    },
    "widgets": {
      "application/vnd.jupyter.widget-state+json": {
        "fd7160ea3d554ae59509928b6ea2e227": {
          "model_module": "@jupyter-widgets/controls",
          "model_name": "HBoxModel",
          "state": {
            "_view_name": "HBoxView",
            "_dom_classes": [],
            "_model_name": "HBoxModel",
            "_view_module": "@jupyter-widgets/controls",
            "_model_module_version": "1.5.0",
            "_view_count": null,
            "_view_module_version": "1.5.0",
            "box_style": "",
            "layout": "IPY_MODEL_6afd0b36293d4121bf18e405acab0f69",
            "_model_module": "@jupyter-widgets/controls",
            "children": [
              "IPY_MODEL_5312473d5ba441a2b5d1621dc2265025",
              "IPY_MODEL_1f93802b030d460689fb34f8db7b9744"
            ]
          }
        },
        "6afd0b36293d4121bf18e405acab0f69": {
          "model_module": "@jupyter-widgets/base",
          "model_name": "LayoutModel",
          "state": {
            "_view_name": "LayoutView",
            "grid_template_rows": null,
            "right": null,
            "justify_content": null,
            "_view_module": "@jupyter-widgets/base",
            "overflow": null,
            "_model_module_version": "1.2.0",
            "_view_count": null,
            "flex_flow": null,
            "width": null,
            "min_width": null,
            "border": null,
            "align_items": null,
            "bottom": null,
            "_model_module": "@jupyter-widgets/base",
            "top": null,
            "grid_column": null,
            "overflow_y": null,
            "overflow_x": null,
            "grid_auto_flow": null,
            "grid_area": null,
            "grid_template_columns": null,
            "flex": null,
            "_model_name": "LayoutModel",
            "justify_items": null,
            "grid_row": null,
            "max_height": null,
            "align_content": null,
            "visibility": null,
            "align_self": null,
            "height": null,
            "min_height": null,
            "padding": null,
            "grid_auto_rows": null,
            "grid_gap": null,
            "max_width": null,
            "order": null,
            "_view_module_version": "1.2.0",
            "grid_template_areas": null,
            "object_position": null,
            "object_fit": null,
            "grid_auto_columns": null,
            "margin": null,
            "display": null,
            "left": null
          }
        },
        "5312473d5ba441a2b5d1621dc2265025": {
          "model_module": "@jupyter-widgets/controls",
          "model_name": "FloatProgressModel",
          "state": {
            "_view_name": "ProgressView",
            "style": "IPY_MODEL_660f6eedc56846b180b2b7767e05cfc8",
            "_dom_classes": [],
            "description": "Downloading: 100%",
            "_model_name": "FloatProgressModel",
            "bar_style": "success",
            "max": 433,
            "_view_module": "@jupyter-widgets/controls",
            "_model_module_version": "1.5.0",
            "value": 433,
            "_view_count": null,
            "_view_module_version": "1.5.0",
            "orientation": "horizontal",
            "min": 0,
            "description_tooltip": null,
            "_model_module": "@jupyter-widgets/controls",
            "layout": "IPY_MODEL_d614a1ded7364f1eb4f3b3f930a3131b"
          }
        },
        "1f93802b030d460689fb34f8db7b9744": {
          "model_module": "@jupyter-widgets/controls",
          "model_name": "HTMLModel",
          "state": {
            "_view_name": "HTMLView",
            "style": "IPY_MODEL_7f426b02f88b44d09b7c6b6550a53e32",
            "_dom_classes": [],
            "description": "",
            "_model_name": "HTMLModel",
            "placeholder": "​",
            "_view_module": "@jupyter-widgets/controls",
            "_model_module_version": "1.5.0",
            "value": " 433/433 [00:00&lt;00:00, 885B/s]",
            "_view_count": null,
            "_view_module_version": "1.5.0",
            "description_tooltip": null,
            "_model_module": "@jupyter-widgets/controls",
            "layout": "IPY_MODEL_10b59f2b42ea4bae8d3826075e742bd3"
          }
        },
        "660f6eedc56846b180b2b7767e05cfc8": {
          "model_module": "@jupyter-widgets/controls",
          "model_name": "ProgressStyleModel",
          "state": {
            "_view_name": "StyleView",
            "_model_name": "ProgressStyleModel",
            "description_width": "initial",
            "_view_module": "@jupyter-widgets/base",
            "_model_module_version": "1.5.0",
            "_view_count": null,
            "_view_module_version": "1.2.0",
            "bar_color": null,
            "_model_module": "@jupyter-widgets/controls"
          }
        },
        "d614a1ded7364f1eb4f3b3f930a3131b": {
          "model_module": "@jupyter-widgets/base",
          "model_name": "LayoutModel",
          "state": {
            "_view_name": "LayoutView",
            "grid_template_rows": null,
            "right": null,
            "justify_content": null,
            "_view_module": "@jupyter-widgets/base",
            "overflow": null,
            "_model_module_version": "1.2.0",
            "_view_count": null,
            "flex_flow": null,
            "width": null,
            "min_width": null,
            "border": null,
            "align_items": null,
            "bottom": null,
            "_model_module": "@jupyter-widgets/base",
            "top": null,
            "grid_column": null,
            "overflow_y": null,
            "overflow_x": null,
            "grid_auto_flow": null,
            "grid_area": null,
            "grid_template_columns": null,
            "flex": null,
            "_model_name": "LayoutModel",
            "justify_items": null,
            "grid_row": null,
            "max_height": null,
            "align_content": null,
            "visibility": null,
            "align_self": null,
            "height": null,
            "min_height": null,
            "padding": null,
            "grid_auto_rows": null,
            "grid_gap": null,
            "max_width": null,
            "order": null,
            "_view_module_version": "1.2.0",
            "grid_template_areas": null,
            "object_position": null,
            "object_fit": null,
            "grid_auto_columns": null,
            "margin": null,
            "display": null,
            "left": null
          }
        },
        "7f426b02f88b44d09b7c6b6550a53e32": {
          "model_module": "@jupyter-widgets/controls",
          "model_name": "DescriptionStyleModel",
          "state": {
            "_view_name": "StyleView",
            "_model_name": "DescriptionStyleModel",
            "description_width": "",
            "_view_module": "@jupyter-widgets/base",
            "_model_module_version": "1.5.0",
            "_view_count": null,
            "_view_module_version": "1.2.0",
            "_model_module": "@jupyter-widgets/controls"
          }
        },
        "10b59f2b42ea4bae8d3826075e742bd3": {
          "model_module": "@jupyter-widgets/base",
          "model_name": "LayoutModel",
          "state": {
            "_view_name": "LayoutView",
            "grid_template_rows": null,
            "right": null,
            "justify_content": null,
            "_view_module": "@jupyter-widgets/base",
            "overflow": null,
            "_model_module_version": "1.2.0",
            "_view_count": null,
            "flex_flow": null,
            "width": null,
            "min_width": null,
            "border": null,
            "align_items": null,
            "bottom": null,
            "_model_module": "@jupyter-widgets/base",
            "top": null,
            "grid_column": null,
            "overflow_y": null,
            "overflow_x": null,
            "grid_auto_flow": null,
            "grid_area": null,
            "grid_template_columns": null,
            "flex": null,
            "_model_name": "LayoutModel",
            "justify_items": null,
            "grid_row": null,
            "max_height": null,
            "align_content": null,
            "visibility": null,
            "align_self": null,
            "height": null,
            "min_height": null,
            "padding": null,
            "grid_auto_rows": null,
            "grid_gap": null,
            "max_width": null,
            "order": null,
            "_view_module_version": "1.2.0",
            "grid_template_areas": null,
            "object_position": null,
            "object_fit": null,
            "grid_auto_columns": null,
            "margin": null,
            "display": null,
            "left": null
          }
        },
        "bb4ab431fd0d44bba3e5447b245a045c": {
          "model_module": "@jupyter-widgets/controls",
          "model_name": "HBoxModel",
          "state": {
            "_view_name": "HBoxView",
            "_dom_classes": [],
            "_model_name": "HBoxModel",
            "_view_module": "@jupyter-widgets/controls",
            "_model_module_version": "1.5.0",
            "_view_count": null,
            "_view_module_version": "1.5.0",
            "box_style": "",
            "layout": "IPY_MODEL_b397e4443469445e94e22acb8f527717",
            "_model_module": "@jupyter-widgets/controls",
            "children": [
              "IPY_MODEL_0cc8e11a076f40b1a16f64928b892645",
              "IPY_MODEL_5e6af772fb4e4073ad6ee7f5f59a7402"
            ]
          }
        },
        "b397e4443469445e94e22acb8f527717": {
          "model_module": "@jupyter-widgets/base",
          "model_name": "LayoutModel",
          "state": {
            "_view_name": "LayoutView",
            "grid_template_rows": null,
            "right": null,
            "justify_content": null,
            "_view_module": "@jupyter-widgets/base",
            "overflow": null,
            "_model_module_version": "1.2.0",
            "_view_count": null,
            "flex_flow": null,
            "width": null,
            "min_width": null,
            "border": null,
            "align_items": null,
            "bottom": null,
            "_model_module": "@jupyter-widgets/base",
            "top": null,
            "grid_column": null,
            "overflow_y": null,
            "overflow_x": null,
            "grid_auto_flow": null,
            "grid_area": null,
            "grid_template_columns": null,
            "flex": null,
            "_model_name": "LayoutModel",
            "justify_items": null,
            "grid_row": null,
            "max_height": null,
            "align_content": null,
            "visibility": null,
            "align_self": null,
            "height": null,
            "min_height": null,
            "padding": null,
            "grid_auto_rows": null,
            "grid_gap": null,
            "max_width": null,
            "order": null,
            "_view_module_version": "1.2.0",
            "grid_template_areas": null,
            "object_position": null,
            "object_fit": null,
            "grid_auto_columns": null,
            "margin": null,
            "display": null,
            "left": null
          }
        },
        "0cc8e11a076f40b1a16f64928b892645": {
          "model_module": "@jupyter-widgets/controls",
          "model_name": "FloatProgressModel",
          "state": {
            "_view_name": "ProgressView",
            "style": "IPY_MODEL_907109b1442840b3916478a042f907ac",
            "_dom_classes": [],
            "description": "Downloading: 100%",
            "_model_name": "FloatProgressModel",
            "bar_style": "success",
            "max": 440473133,
            "_view_module": "@jupyter-widgets/controls",
            "_model_module_version": "1.5.0",
            "value": 440473133,
            "_view_count": null,
            "_view_module_version": "1.5.0",
            "orientation": "horizontal",
            "min": 0,
            "description_tooltip": null,
            "_model_module": "@jupyter-widgets/controls",
            "layout": "IPY_MODEL_5b551ba3e7734e2c8fff7a6b0128502a"
          }
        },
        "5e6af772fb4e4073ad6ee7f5f59a7402": {
          "model_module": "@jupyter-widgets/controls",
          "model_name": "HTMLModel",
          "state": {
            "_view_name": "HTMLView",
            "style": "IPY_MODEL_2ea94c4e8d5440fcb04be008d395d7ac",
            "_dom_classes": [],
            "description": "",
            "_model_name": "HTMLModel",
            "placeholder": "​",
            "_view_module": "@jupyter-widgets/controls",
            "_model_module_version": "1.5.0",
            "value": " 440M/440M [00:09&lt;00:00, 46.0MB/s]",
            "_view_count": null,
            "_view_module_version": "1.5.0",
            "description_tooltip": null,
            "_model_module": "@jupyter-widgets/controls",
            "layout": "IPY_MODEL_8e113866e53e4b30a4a53899746f4d0c"
          }
        },
        "907109b1442840b3916478a042f907ac": {
          "model_module": "@jupyter-widgets/controls",
          "model_name": "ProgressStyleModel",
          "state": {
            "_view_name": "StyleView",
            "_model_name": "ProgressStyleModel",
            "description_width": "initial",
            "_view_module": "@jupyter-widgets/base",
            "_model_module_version": "1.5.0",
            "_view_count": null,
            "_view_module_version": "1.2.0",
            "bar_color": null,
            "_model_module": "@jupyter-widgets/controls"
          }
        },
        "5b551ba3e7734e2c8fff7a6b0128502a": {
          "model_module": "@jupyter-widgets/base",
          "model_name": "LayoutModel",
          "state": {
            "_view_name": "LayoutView",
            "grid_template_rows": null,
            "right": null,
            "justify_content": null,
            "_view_module": "@jupyter-widgets/base",
            "overflow": null,
            "_model_module_version": "1.2.0",
            "_view_count": null,
            "flex_flow": null,
            "width": null,
            "min_width": null,
            "border": null,
            "align_items": null,
            "bottom": null,
            "_model_module": "@jupyter-widgets/base",
            "top": null,
            "grid_column": null,
            "overflow_y": null,
            "overflow_x": null,
            "grid_auto_flow": null,
            "grid_area": null,
            "grid_template_columns": null,
            "flex": null,
            "_model_name": "LayoutModel",
            "justify_items": null,
            "grid_row": null,
            "max_height": null,
            "align_content": null,
            "visibility": null,
            "align_self": null,
            "height": null,
            "min_height": null,
            "padding": null,
            "grid_auto_rows": null,
            "grid_gap": null,
            "max_width": null,
            "order": null,
            "_view_module_version": "1.2.0",
            "grid_template_areas": null,
            "object_position": null,
            "object_fit": null,
            "grid_auto_columns": null,
            "margin": null,
            "display": null,
            "left": null
          }
        },
        "2ea94c4e8d5440fcb04be008d395d7ac": {
          "model_module": "@jupyter-widgets/controls",
          "model_name": "DescriptionStyleModel",
          "state": {
            "_view_name": "StyleView",
            "_model_name": "DescriptionStyleModel",
            "description_width": "",
            "_view_module": "@jupyter-widgets/base",
            "_model_module_version": "1.5.0",
            "_view_count": null,
            "_view_module_version": "1.2.0",
            "_model_module": "@jupyter-widgets/controls"
          }
        },
        "8e113866e53e4b30a4a53899746f4d0c": {
          "model_module": "@jupyter-widgets/base",
          "model_name": "LayoutModel",
          "state": {
            "_view_name": "LayoutView",
            "grid_template_rows": null,
            "right": null,
            "justify_content": null,
            "_view_module": "@jupyter-widgets/base",
            "overflow": null,
            "_model_module_version": "1.2.0",
            "_view_count": null,
            "flex_flow": null,
            "width": null,
            "min_width": null,
            "border": null,
            "align_items": null,
            "bottom": null,
            "_model_module": "@jupyter-widgets/base",
            "top": null,
            "grid_column": null,
            "overflow_y": null,
            "overflow_x": null,
            "grid_auto_flow": null,
            "grid_area": null,
            "grid_template_columns": null,
            "flex": null,
            "_model_name": "LayoutModel",
            "justify_items": null,
            "grid_row": null,
            "max_height": null,
            "align_content": null,
            "visibility": null,
            "align_self": null,
            "height": null,
            "min_height": null,
            "padding": null,
            "grid_auto_rows": null,
            "grid_gap": null,
            "max_width": null,
            "order": null,
            "_view_module_version": "1.2.0",
            "grid_template_areas": null,
            "object_position": null,
            "object_fit": null,
            "grid_auto_columns": null,
            "margin": null,
            "display": null,
            "left": null
          }
        }
      }
    },
    "accelerator": "GPU"
  },
  "cells": [
    {
      "cell_type": "markdown",
      "metadata": {
        "id": "s2GwOm4F3MNG"
      },
      "source": [
        "# Install and importing requirements"
      ]
    },
    {
      "cell_type": "code",
      "metadata": {
        "id": "-YQ0cP4DqWFo",
        "outputId": "3b2ee9a3-6fb0-4455-aa73-4181eb35d823",
        "colab": {
          "base_uri": "https://localhost:8080/",
          "height": 683
        }
      },
      "source": [
        "! pip install xmltodict\n",
        "! pip install transformers"
      ],
      "execution_count": null,
      "outputs": [
        {
          "output_type": "stream",
          "text": [
            "Collecting xmltodict\n",
            "  Downloading https://files.pythonhosted.org/packages/28/fd/30d5c1d3ac29ce229f6bdc40bbc20b28f716e8b363140c26eff19122d8a5/xmltodict-0.12.0-py2.py3-none-any.whl\n",
            "Installing collected packages: xmltodict\n",
            "Successfully installed xmltodict-0.12.0\n",
            "Collecting transformers\n",
            "\u001b[?25l  Downloading https://files.pythonhosted.org/packages/ae/05/c8c55b600308dc04e95100dc8ad8a244dd800fe75dfafcf1d6348c6f6209/transformers-3.1.0-py3-none-any.whl (884kB)\n",
            "\u001b[K     |████████████████████████████████| 890kB 2.9MB/s \n",
            "\u001b[?25hRequirement already satisfied: tqdm>=4.27 in /usr/local/lib/python3.6/dist-packages (from transformers) (4.41.1)\n",
            "Requirement already satisfied: dataclasses; python_version < \"3.7\" in /usr/local/lib/python3.6/dist-packages (from transformers) (0.7)\n",
            "Requirement already satisfied: packaging in /usr/local/lib/python3.6/dist-packages (from transformers) (20.4)\n",
            "Collecting sacremoses\n",
            "\u001b[?25l  Downloading https://files.pythonhosted.org/packages/7d/34/09d19aff26edcc8eb2a01bed8e98f13a1537005d31e95233fd48216eed10/sacremoses-0.0.43.tar.gz (883kB)\n",
            "\u001b[K     |████████████████████████████████| 890kB 16.5MB/s \n",
            "\u001b[?25hRequirement already satisfied: filelock in /usr/local/lib/python3.6/dist-packages (from transformers) (3.0.12)\n",
            "Collecting tokenizers==0.8.1.rc2\n",
            "\u001b[?25l  Downloading https://files.pythonhosted.org/packages/80/83/8b9fccb9e48eeb575ee19179e2bdde0ee9a1904f97de5f02d19016b8804f/tokenizers-0.8.1rc2-cp36-cp36m-manylinux1_x86_64.whl (3.0MB)\n",
            "\u001b[K     |████████████████████████████████| 3.0MB 13.9MB/s \n",
            "\u001b[?25hCollecting sentencepiece!=0.1.92\n",
            "\u001b[?25l  Downloading https://files.pythonhosted.org/packages/d4/a4/d0a884c4300004a78cca907a6ff9a5e9fe4f090f5d95ab341c53d28cbc58/sentencepiece-0.1.91-cp36-cp36m-manylinux1_x86_64.whl (1.1MB)\n",
            "\u001b[K     |████████████████████████████████| 1.1MB 37.9MB/s \n",
            "\u001b[?25hRequirement already satisfied: numpy in /usr/local/lib/python3.6/dist-packages (from transformers) (1.18.5)\n",
            "Requirement already satisfied: regex!=2019.12.17 in /usr/local/lib/python3.6/dist-packages (from transformers) (2019.12.20)\n",
            "Requirement already satisfied: requests in /usr/local/lib/python3.6/dist-packages (from transformers) (2.23.0)\n",
            "Requirement already satisfied: six in /usr/local/lib/python3.6/dist-packages (from packaging->transformers) (1.15.0)\n",
            "Requirement already satisfied: pyparsing>=2.0.2 in /usr/local/lib/python3.6/dist-packages (from packaging->transformers) (2.4.7)\n",
            "Requirement already satisfied: click in /usr/local/lib/python3.6/dist-packages (from sacremoses->transformers) (7.1.2)\n",
            "Requirement already satisfied: joblib in /usr/local/lib/python3.6/dist-packages (from sacremoses->transformers) (0.16.0)\n",
            "Requirement already satisfied: certifi>=2017.4.17 in /usr/local/lib/python3.6/dist-packages (from requests->transformers) (2020.6.20)\n",
            "Requirement already satisfied: idna<3,>=2.5 in /usr/local/lib/python3.6/dist-packages (from requests->transformers) (2.10)\n",
            "Requirement already satisfied: chardet<4,>=3.0.2 in /usr/local/lib/python3.6/dist-packages (from requests->transformers) (3.0.4)\n",
            "Requirement already satisfied: urllib3!=1.25.0,!=1.25.1,<1.26,>=1.21.1 in /usr/local/lib/python3.6/dist-packages (from requests->transformers) (1.24.3)\n",
            "Building wheels for collected packages: sacremoses\n",
            "  Building wheel for sacremoses (setup.py) ... \u001b[?25l\u001b[?25hdone\n",
            "  Created wheel for sacremoses: filename=sacremoses-0.0.43-cp36-none-any.whl size=893257 sha256=40b31cda3b5ec9f3a38ff14fa31a87f8275a525d807cff61b048fb9512278692\n",
            "  Stored in directory: /root/.cache/pip/wheels/29/3c/fd/7ce5c3f0666dab31a50123635e6fb5e19ceb42ce38d4e58f45\n",
            "Successfully built sacremoses\n",
            "Installing collected packages: sacremoses, tokenizers, sentencepiece, transformers\n",
            "Successfully installed sacremoses-0.0.43 sentencepiece-0.1.91 tokenizers-0.8.1rc2 transformers-3.1.0\n"
          ],
          "name": "stdout"
        }
      ]
    },
    {
      "cell_type": "code",
      "metadata": {
        "id": "P1ytNIG2q5pn"
      },
      "source": [
        "import xmltodict\n",
        "import json\n",
        "import numpy as np\n",
        "from sklearn.model_selection import train_test_split\n",
        "from tqdm import tqdm\n",
        "from transformers import BertTokenizer, BertForNextSentencePrediction, AdamW\n",
        "import torch\n",
        "from collections import defaultdict\n",
        "import scipy\n",
        "import logging\n",
        "\n",
        "# this to prevent warning when using bert tokenizer \n",
        "logging.getLogger('transformers').setLevel(logging.ERROR)"
      ],
      "execution_count": null,
      "outputs": []
    },
    {
      "cell_type": "markdown",
      "metadata": {
        "id": "zijbPlhu3JEv"
      },
      "source": [
        "# load in queries and documents\n"
      ]
    },
    {
      "cell_type": "markdown",
      "metadata": {
        "id": "JNHvwsIb3cPW"
      },
      "source": [
        "### Create a dictionary where the keys are queries and the list of document to re-rank for that specific query is the results"
      ]
    },
    {
      "cell_type": "code",
      "metadata": {
        "id": "PRMZTEDEq7QD"
      },
      "source": [
        "articles_linking = dict()\n",
        "with open('drive/My Drive/TREC 2020 News/Data/2018 Topics/background qrels.exp-gains.txt','r') as file:\n",
        "  for line in file.readlines():\n",
        "    splitted = line.split()\n",
        "    links = []\n",
        "    if(splitted[0] in articles_linking):\n",
        "      links = articles_linking[splitted[0]]\n",
        "    links.append([splitted[2],splitted[3]])\n",
        "    links = sorted(links,key= lambda x: int(x[1]),reverse=True)\n",
        "    articles_linking[splitted[0]] = links\n",
        "\n",
        "with open('drive/My Drive/TREC 2020 News/Data/2018 Topics/newsir18-background topics_fixed.xml') as fd:\n",
        "    doc = xmltodict.parse(fd.read(), process_namespaces=True)\n",
        "article_entity_mapping_dict = dict()\n",
        "num_to_docid_mapping = dict()\n",
        "for article in doc['root']['top']:\n",
        "  # print(article['num'])\n",
        "  article_num_cleaned = article['num'].split(':')[1].strip()\n",
        "  num_to_docid_mapping[article_num_cleaned] = article['docid']\n",
        "\n",
        "article_contents_dict = dict()\n",
        "with open('drive/My Drive/entity ranking/Experiments/processed_data/backgroundlinking_article_contents_TREC2018.json', 'r') as fp:\n",
        "    article_contents_dict  = json.load(fp)\n",
        "\n",
        "with open('drive/My Drive/TREC 2020 News/Data/2019 Topics/newsir19-qrels-background.txt','r') as file:\n",
        "  for line in file.readlines():\n",
        "    splitted = line.split()\n",
        "    links = []\n",
        "    if(splitted[0] in articles_linking):\n",
        "      links = articles_linking[splitted[0]]\n",
        "    links.append([splitted[2],splitted[3]])\n",
        "    links = sorted(links,key= lambda x: int(x[1]),reverse=True)\n",
        "    articles_linking[splitted[0]] = links\n",
        "\n",
        "\n",
        "with open('drive/My Drive/TREC 2020 News/Data/2019 Topics/newsir19-background-linking-topics_with_xmlroot.xml') as fd:\n",
        "    doc = xmltodict.parse(fd.read(), process_namespaces=True)\n",
        "article_entity_mapping_dict = dict()\n",
        "\n",
        "for article in doc['root']['top']:\n",
        "  # print(article['num'])\n",
        "  article_num_cleaned = article['num'].split(':')[1].strip()\n",
        "  num_to_docid_mapping[article_num_cleaned] = article['docid']\n",
        "\n",
        "test_article_contents_dict = dict()\n",
        "with open('drive/My Drive/entity ranking/Experiments/processed_data/backgroundlinking_article_contents_TREC2019.json', 'r') as fp:\n",
        "    test_article_contents_dict  = json.load(fp)\n",
        "\n",
        "article_contents_dict.update(test_article_contents_dict)"
      ],
      "execution_count": null,
      "outputs": []
    },
    {
      "cell_type": "markdown",
      "metadata": {
        "id": "DvrIyi2C3T_H"
      },
      "source": [
        "# preprocess queries and docs"
      ]
    },
    {
      "cell_type": "code",
      "metadata": {
        "id": "jrOqvzrOAfPA"
      },
      "source": [
        "# we crop documents and queries so they are both less than the max length 512 tokens (combined)\n",
        "def crop_doc(doc,max_len=210):\n",
        "  cropped_doc = doc.split()[:max_len]\n",
        "  cropped_doc = \" \".join(cropped_doc)\n",
        "  return cropped_doc"
      ],
      "execution_count": null,
      "outputs": []
    },
    {
      "cell_type": "code",
      "metadata": {
        "id": "rXESmLfNAW0i"
      },
      "source": [
        "query_X = [] #  text_1\n",
        "docs_X = [] # text_2\n",
        "y = []\n",
        "inds_q = []\n",
        "inds_d = []\n",
        "tuple_list = []\n",
        "# keep track of how  many negs we have so far\n",
        "query_neg_counts = defaultdict(int)\n",
        "for query_num,articles_list in articles_linking.items():\n",
        "  for article_tuple in articles_list:\n",
        "\n",
        "    # keep a balanced dataset\n",
        "    # if(int(article_tuple[1]) != 0 or query_neg_counts[query_num] < query_pos_counts[query_num]*1):\n",
        "\n",
        "    query_X.append(crop_doc(article_contents_dict[num_to_docid_mapping[query_num]]))\n",
        "    docs_X.append(crop_doc(article_contents_dict[article_tuple[0]]))\n",
        "    label = int(int(article_tuple[1]) == 0)\n",
        "    y.append([label])\n",
        "\n",
        "    inds_q.append(query_num)\n",
        "    inds_d.append(article_tuple[0])\n",
        "\n",
        "    tuple_list.append([crop_doc(article_contents_dict[num_to_docid_mapping[query_num]]),crop_doc(article_contents_dict[article_tuple[0]]),[label],query_num,article_tuple[0]])\n",
        "\n",
        "\n",
        "    # # update the neg count\n",
        "    # if(int(article_tuple[1]) == 0):\n",
        "    #   query_neg_counts[query_num] += 1\n",
        "    \n",
        "\n",
        "X = list(map(list, zip(query_X, docs_X)))\n",
        "\n",
        "np.random.seed(42)\n",
        "np.random.shuffle(tuple_list)\n",
        "\n",
        "query_X,docs_X,y,inds_q,inds_d= zip(*tuple_list)"
      ],
      "execution_count": null,
      "outputs": []
    },
    {
      "cell_type": "code",
      "metadata": {
        "id": "FDr52r84qAQ6",
        "outputId": "43c57358-0472-43da-bc05-32bbcabec774",
        "colab": {
          "base_uri": "https://localhost:8080/",
          "height": 1000,
          "referenced_widgets": [
            "fd7160ea3d554ae59509928b6ea2e227",
            "6afd0b36293d4121bf18e405acab0f69",
            "5312473d5ba441a2b5d1621dc2265025",
            "1f93802b030d460689fb34f8db7b9744",
            "660f6eedc56846b180b2b7767e05cfc8",
            "d614a1ded7364f1eb4f3b3f930a3131b",
            "7f426b02f88b44d09b7c6b6550a53e32",
            "10b59f2b42ea4bae8d3826075e742bd3",
            "bb4ab431fd0d44bba3e5447b245a045c",
            "b397e4443469445e94e22acb8f527717",
            "0cc8e11a076f40b1a16f64928b892645",
            "5e6af772fb4e4073ad6ee7f5f59a7402",
            "907109b1442840b3916478a042f907ac",
            "5b551ba3e7734e2c8fff7a6b0128502a",
            "2ea94c4e8d5440fcb04be008d395d7ac",
            "8e113866e53e4b30a4a53899746f4d0c"
          ]
        }
      },
      "source": [
        "tokenizer = BertTokenizer.from_pretrained('bert-base-uncased')\n",
        "model = BertForNextSentencePrediction.from_pretrained('bert-base-uncased').cuda()\n",
        "model.train()\n",
        "\n",
        "optimizer = AdamW(model.parameters(), lr=1e-6)"
      ],
      "execution_count": null,
      "outputs": [
        {
          "output_type": "display_data",
          "data": {
            "application/vnd.jupyter.widget-view+json": {
              "model_id": "fd7160ea3d554ae59509928b6ea2e227",
              "version_minor": 0,
              "version_major": 2
            },
            "text/plain": [
              "HBox(children=(FloatProgress(value=0.0, description='Downloading', max=433.0, style=ProgressStyle(description_…"
            ]
          },
          "metadata": {
            "tags": []
          }
        },
        {
          "output_type": "stream",
          "text": [
            "\n"
          ],
          "name": "stdout"
        },
        {
          "output_type": "display_data",
          "data": {
            "application/vnd.jupyter.widget-view+json": {
              "model_id": "bb4ab431fd0d44bba3e5447b245a045c",
              "version_minor": 0,
              "version_major": 2
            },
            "text/plain": [
              "HBox(children=(FloatProgress(value=0.0, description='Downloading', max=440473133.0, style=ProgressStyle(descri…"
            ]
          },
          "metadata": {
            "tags": []
          }
        },
        {
          "output_type": "stream",
          "text": [
            "\n"
          ],
          "name": "stdout"
        },
        {
          "output_type": "stream",
          "text": [
            "Some weights of the model checkpoint at bert-base-uncased were not used when initializing BertForNextSentencePrediction: ['cls.predictions.bias', 'cls.predictions.transform.dense.weight', 'cls.predictions.transform.dense.bias', 'cls.predictions.decoder.weight', 'cls.predictions.transform.LayerNorm.weight', 'cls.predictions.transform.LayerNorm.bias']\n",
            "- This IS expected if you are initializing BertForNextSentencePrediction from the checkpoint of a model trained on another task or with another architecture (e.g. initializing a BertForSequenceClassification model from a BertForPretraining model).\n",
            "- This IS NOT expected if you are initializing BertForNextSentencePrediction from the checkpoint of a model that you expect to be exactly identical (initializing a BertForSequenceClassification model from a BertForSequenceClassification model).\n"
          ],
          "name": "stderr"
        },
        {
          "output_type": "execute_result",
          "data": {
            "text/plain": [
              "BertForNextSentencePrediction(\n",
              "  (bert): BertModel(\n",
              "    (embeddings): BertEmbeddings(\n",
              "      (word_embeddings): Embedding(30522, 768, padding_idx=0)\n",
              "      (position_embeddings): Embedding(512, 768)\n",
              "      (token_type_embeddings): Embedding(2, 768)\n",
              "      (LayerNorm): LayerNorm((768,), eps=1e-12, elementwise_affine=True)\n",
              "      (dropout): Dropout(p=0.1, inplace=False)\n",
              "    )\n",
              "    (encoder): BertEncoder(\n",
              "      (layer): ModuleList(\n",
              "        (0): BertLayer(\n",
              "          (attention): BertAttention(\n",
              "            (self): BertSelfAttention(\n",
              "              (query): Linear(in_features=768, out_features=768, bias=True)\n",
              "              (key): Linear(in_features=768, out_features=768, bias=True)\n",
              "              (value): Linear(in_features=768, out_features=768, bias=True)\n",
              "              (dropout): Dropout(p=0.1, inplace=False)\n",
              "            )\n",
              "            (output): BertSelfOutput(\n",
              "              (dense): Linear(in_features=768, out_features=768, bias=True)\n",
              "              (LayerNorm): LayerNorm((768,), eps=1e-12, elementwise_affine=True)\n",
              "              (dropout): Dropout(p=0.1, inplace=False)\n",
              "            )\n",
              "          )\n",
              "          (intermediate): BertIntermediate(\n",
              "            (dense): Linear(in_features=768, out_features=3072, bias=True)\n",
              "          )\n",
              "          (output): BertOutput(\n",
              "            (dense): Linear(in_features=3072, out_features=768, bias=True)\n",
              "            (LayerNorm): LayerNorm((768,), eps=1e-12, elementwise_affine=True)\n",
              "            (dropout): Dropout(p=0.1, inplace=False)\n",
              "          )\n",
              "        )\n",
              "        (1): BertLayer(\n",
              "          (attention): BertAttention(\n",
              "            (self): BertSelfAttention(\n",
              "              (query): Linear(in_features=768, out_features=768, bias=True)\n",
              "              (key): Linear(in_features=768, out_features=768, bias=True)\n",
              "              (value): Linear(in_features=768, out_features=768, bias=True)\n",
              "              (dropout): Dropout(p=0.1, inplace=False)\n",
              "            )\n",
              "            (output): BertSelfOutput(\n",
              "              (dense): Linear(in_features=768, out_features=768, bias=True)\n",
              "              (LayerNorm): LayerNorm((768,), eps=1e-12, elementwise_affine=True)\n",
              "              (dropout): Dropout(p=0.1, inplace=False)\n",
              "            )\n",
              "          )\n",
              "          (intermediate): BertIntermediate(\n",
              "            (dense): Linear(in_features=768, out_features=3072, bias=True)\n",
              "          )\n",
              "          (output): BertOutput(\n",
              "            (dense): Linear(in_features=3072, out_features=768, bias=True)\n",
              "            (LayerNorm): LayerNorm((768,), eps=1e-12, elementwise_affine=True)\n",
              "            (dropout): Dropout(p=0.1, inplace=False)\n",
              "          )\n",
              "        )\n",
              "        (2): BertLayer(\n",
              "          (attention): BertAttention(\n",
              "            (self): BertSelfAttention(\n",
              "              (query): Linear(in_features=768, out_features=768, bias=True)\n",
              "              (key): Linear(in_features=768, out_features=768, bias=True)\n",
              "              (value): Linear(in_features=768, out_features=768, bias=True)\n",
              "              (dropout): Dropout(p=0.1, inplace=False)\n",
              "            )\n",
              "            (output): BertSelfOutput(\n",
              "              (dense): Linear(in_features=768, out_features=768, bias=True)\n",
              "              (LayerNorm): LayerNorm((768,), eps=1e-12, elementwise_affine=True)\n",
              "              (dropout): Dropout(p=0.1, inplace=False)\n",
              "            )\n",
              "          )\n",
              "          (intermediate): BertIntermediate(\n",
              "            (dense): Linear(in_features=768, out_features=3072, bias=True)\n",
              "          )\n",
              "          (output): BertOutput(\n",
              "            (dense): Linear(in_features=3072, out_features=768, bias=True)\n",
              "            (LayerNorm): LayerNorm((768,), eps=1e-12, elementwise_affine=True)\n",
              "            (dropout): Dropout(p=0.1, inplace=False)\n",
              "          )\n",
              "        )\n",
              "        (3): BertLayer(\n",
              "          (attention): BertAttention(\n",
              "            (self): BertSelfAttention(\n",
              "              (query): Linear(in_features=768, out_features=768, bias=True)\n",
              "              (key): Linear(in_features=768, out_features=768, bias=True)\n",
              "              (value): Linear(in_features=768, out_features=768, bias=True)\n",
              "              (dropout): Dropout(p=0.1, inplace=False)\n",
              "            )\n",
              "            (output): BertSelfOutput(\n",
              "              (dense): Linear(in_features=768, out_features=768, bias=True)\n",
              "              (LayerNorm): LayerNorm((768,), eps=1e-12, elementwise_affine=True)\n",
              "              (dropout): Dropout(p=0.1, inplace=False)\n",
              "            )\n",
              "          )\n",
              "          (intermediate): BertIntermediate(\n",
              "            (dense): Linear(in_features=768, out_features=3072, bias=True)\n",
              "          )\n",
              "          (output): BertOutput(\n",
              "            (dense): Linear(in_features=3072, out_features=768, bias=True)\n",
              "            (LayerNorm): LayerNorm((768,), eps=1e-12, elementwise_affine=True)\n",
              "            (dropout): Dropout(p=0.1, inplace=False)\n",
              "          )\n",
              "        )\n",
              "        (4): BertLayer(\n",
              "          (attention): BertAttention(\n",
              "            (self): BertSelfAttention(\n",
              "              (query): Linear(in_features=768, out_features=768, bias=True)\n",
              "              (key): Linear(in_features=768, out_features=768, bias=True)\n",
              "              (value): Linear(in_features=768, out_features=768, bias=True)\n",
              "              (dropout): Dropout(p=0.1, inplace=False)\n",
              "            )\n",
              "            (output): BertSelfOutput(\n",
              "              (dense): Linear(in_features=768, out_features=768, bias=True)\n",
              "              (LayerNorm): LayerNorm((768,), eps=1e-12, elementwise_affine=True)\n",
              "              (dropout): Dropout(p=0.1, inplace=False)\n",
              "            )\n",
              "          )\n",
              "          (intermediate): BertIntermediate(\n",
              "            (dense): Linear(in_features=768, out_features=3072, bias=True)\n",
              "          )\n",
              "          (output): BertOutput(\n",
              "            (dense): Linear(in_features=3072, out_features=768, bias=True)\n",
              "            (LayerNorm): LayerNorm((768,), eps=1e-12, elementwise_affine=True)\n",
              "            (dropout): Dropout(p=0.1, inplace=False)\n",
              "          )\n",
              "        )\n",
              "        (5): BertLayer(\n",
              "          (attention): BertAttention(\n",
              "            (self): BertSelfAttention(\n",
              "              (query): Linear(in_features=768, out_features=768, bias=True)\n",
              "              (key): Linear(in_features=768, out_features=768, bias=True)\n",
              "              (value): Linear(in_features=768, out_features=768, bias=True)\n",
              "              (dropout): Dropout(p=0.1, inplace=False)\n",
              "            )\n",
              "            (output): BertSelfOutput(\n",
              "              (dense): Linear(in_features=768, out_features=768, bias=True)\n",
              "              (LayerNorm): LayerNorm((768,), eps=1e-12, elementwise_affine=True)\n",
              "              (dropout): Dropout(p=0.1, inplace=False)\n",
              "            )\n",
              "          )\n",
              "          (intermediate): BertIntermediate(\n",
              "            (dense): Linear(in_features=768, out_features=3072, bias=True)\n",
              "          )\n",
              "          (output): BertOutput(\n",
              "            (dense): Linear(in_features=3072, out_features=768, bias=True)\n",
              "            (LayerNorm): LayerNorm((768,), eps=1e-12, elementwise_affine=True)\n",
              "            (dropout): Dropout(p=0.1, inplace=False)\n",
              "          )\n",
              "        )\n",
              "        (6): BertLayer(\n",
              "          (attention): BertAttention(\n",
              "            (self): BertSelfAttention(\n",
              "              (query): Linear(in_features=768, out_features=768, bias=True)\n",
              "              (key): Linear(in_features=768, out_features=768, bias=True)\n",
              "              (value): Linear(in_features=768, out_features=768, bias=True)\n",
              "              (dropout): Dropout(p=0.1, inplace=False)\n",
              "            )\n",
              "            (output): BertSelfOutput(\n",
              "              (dense): Linear(in_features=768, out_features=768, bias=True)\n",
              "              (LayerNorm): LayerNorm((768,), eps=1e-12, elementwise_affine=True)\n",
              "              (dropout): Dropout(p=0.1, inplace=False)\n",
              "            )\n",
              "          )\n",
              "          (intermediate): BertIntermediate(\n",
              "            (dense): Linear(in_features=768, out_features=3072, bias=True)\n",
              "          )\n",
              "          (output): BertOutput(\n",
              "            (dense): Linear(in_features=3072, out_features=768, bias=True)\n",
              "            (LayerNorm): LayerNorm((768,), eps=1e-12, elementwise_affine=True)\n",
              "            (dropout): Dropout(p=0.1, inplace=False)\n",
              "          )\n",
              "        )\n",
              "        (7): BertLayer(\n",
              "          (attention): BertAttention(\n",
              "            (self): BertSelfAttention(\n",
              "              (query): Linear(in_features=768, out_features=768, bias=True)\n",
              "              (key): Linear(in_features=768, out_features=768, bias=True)\n",
              "              (value): Linear(in_features=768, out_features=768, bias=True)\n",
              "              (dropout): Dropout(p=0.1, inplace=False)\n",
              "            )\n",
              "            (output): BertSelfOutput(\n",
              "              (dense): Linear(in_features=768, out_features=768, bias=True)\n",
              "              (LayerNorm): LayerNorm((768,), eps=1e-12, elementwise_affine=True)\n",
              "              (dropout): Dropout(p=0.1, inplace=False)\n",
              "            )\n",
              "          )\n",
              "          (intermediate): BertIntermediate(\n",
              "            (dense): Linear(in_features=768, out_features=3072, bias=True)\n",
              "          )\n",
              "          (output): BertOutput(\n",
              "            (dense): Linear(in_features=3072, out_features=768, bias=True)\n",
              "            (LayerNorm): LayerNorm((768,), eps=1e-12, elementwise_affine=True)\n",
              "            (dropout): Dropout(p=0.1, inplace=False)\n",
              "          )\n",
              "        )\n",
              "        (8): BertLayer(\n",
              "          (attention): BertAttention(\n",
              "            (self): BertSelfAttention(\n",
              "              (query): Linear(in_features=768, out_features=768, bias=True)\n",
              "              (key): Linear(in_features=768, out_features=768, bias=True)\n",
              "              (value): Linear(in_features=768, out_features=768, bias=True)\n",
              "              (dropout): Dropout(p=0.1, inplace=False)\n",
              "            )\n",
              "            (output): BertSelfOutput(\n",
              "              (dense): Linear(in_features=768, out_features=768, bias=True)\n",
              "              (LayerNorm): LayerNorm((768,), eps=1e-12, elementwise_affine=True)\n",
              "              (dropout): Dropout(p=0.1, inplace=False)\n",
              "            )\n",
              "          )\n",
              "          (intermediate): BertIntermediate(\n",
              "            (dense): Linear(in_features=768, out_features=3072, bias=True)\n",
              "          )\n",
              "          (output): BertOutput(\n",
              "            (dense): Linear(in_features=3072, out_features=768, bias=True)\n",
              "            (LayerNorm): LayerNorm((768,), eps=1e-12, elementwise_affine=True)\n",
              "            (dropout): Dropout(p=0.1, inplace=False)\n",
              "          )\n",
              "        )\n",
              "        (9): BertLayer(\n",
              "          (attention): BertAttention(\n",
              "            (self): BertSelfAttention(\n",
              "              (query): Linear(in_features=768, out_features=768, bias=True)\n",
              "              (key): Linear(in_features=768, out_features=768, bias=True)\n",
              "              (value): Linear(in_features=768, out_features=768, bias=True)\n",
              "              (dropout): Dropout(p=0.1, inplace=False)\n",
              "            )\n",
              "            (output): BertSelfOutput(\n",
              "              (dense): Linear(in_features=768, out_features=768, bias=True)\n",
              "              (LayerNorm): LayerNorm((768,), eps=1e-12, elementwise_affine=True)\n",
              "              (dropout): Dropout(p=0.1, inplace=False)\n",
              "            )\n",
              "          )\n",
              "          (intermediate): BertIntermediate(\n",
              "            (dense): Linear(in_features=768, out_features=3072, bias=True)\n",
              "          )\n",
              "          (output): BertOutput(\n",
              "            (dense): Linear(in_features=3072, out_features=768, bias=True)\n",
              "            (LayerNorm): LayerNorm((768,), eps=1e-12, elementwise_affine=True)\n",
              "            (dropout): Dropout(p=0.1, inplace=False)\n",
              "          )\n",
              "        )\n",
              "        (10): BertLayer(\n",
              "          (attention): BertAttention(\n",
              "            (self): BertSelfAttention(\n",
              "              (query): Linear(in_features=768, out_features=768, bias=True)\n",
              "              (key): Linear(in_features=768, out_features=768, bias=True)\n",
              "              (value): Linear(in_features=768, out_features=768, bias=True)\n",
              "              (dropout): Dropout(p=0.1, inplace=False)\n",
              "            )\n",
              "            (output): BertSelfOutput(\n",
              "              (dense): Linear(in_features=768, out_features=768, bias=True)\n",
              "              (LayerNorm): LayerNorm((768,), eps=1e-12, elementwise_affine=True)\n",
              "              (dropout): Dropout(p=0.1, inplace=False)\n",
              "            )\n",
              "          )\n",
              "          (intermediate): BertIntermediate(\n",
              "            (dense): Linear(in_features=768, out_features=3072, bias=True)\n",
              "          )\n",
              "          (output): BertOutput(\n",
              "            (dense): Linear(in_features=3072, out_features=768, bias=True)\n",
              "            (LayerNorm): LayerNorm((768,), eps=1e-12, elementwise_affine=True)\n",
              "            (dropout): Dropout(p=0.1, inplace=False)\n",
              "          )\n",
              "        )\n",
              "        (11): BertLayer(\n",
              "          (attention): BertAttention(\n",
              "            (self): BertSelfAttention(\n",
              "              (query): Linear(in_features=768, out_features=768, bias=True)\n",
              "              (key): Linear(in_features=768, out_features=768, bias=True)\n",
              "              (value): Linear(in_features=768, out_features=768, bias=True)\n",
              "              (dropout): Dropout(p=0.1, inplace=False)\n",
              "            )\n",
              "            (output): BertSelfOutput(\n",
              "              (dense): Linear(in_features=768, out_features=768, bias=True)\n",
              "              (LayerNorm): LayerNorm((768,), eps=1e-12, elementwise_affine=True)\n",
              "              (dropout): Dropout(p=0.1, inplace=False)\n",
              "            )\n",
              "          )\n",
              "          (intermediate): BertIntermediate(\n",
              "            (dense): Linear(in_features=768, out_features=3072, bias=True)\n",
              "          )\n",
              "          (output): BertOutput(\n",
              "            (dense): Linear(in_features=3072, out_features=768, bias=True)\n",
              "            (LayerNorm): LayerNorm((768,), eps=1e-12, elementwise_affine=True)\n",
              "            (dropout): Dropout(p=0.1, inplace=False)\n",
              "          )\n",
              "        )\n",
              "      )\n",
              "    )\n",
              "    (pooler): BertPooler(\n",
              "      (dense): Linear(in_features=768, out_features=768, bias=True)\n",
              "      (activation): Tanh()\n",
              "    )\n",
              "  )\n",
              "  (cls): BertOnlyNSPHead(\n",
              "    (seq_relationship): Linear(in_features=768, out_features=2, bias=True)\n",
              "  )\n",
              ")"
            ]
          },
          "metadata": {
            "tags": []
          },
          "execution_count": 22
        }
      ]
    },
    {
      "cell_type": "markdown",
      "metadata": {
        "id": "xhdohTIp4GKP"
      },
      "source": [
        "# Hyperparameters and training\n"
      ]
    },
    {
      "cell_type": "code",
      "metadata": {
        "id": "E7nJ-fTTAlxK"
      },
      "source": [
        "max_length = 512\n",
        "batch_size = 8\n",
        "# update_size = 8"
      ],
      "execution_count": null,
      "outputs": []
    },
    {
      "cell_type": "markdown",
      "metadata": {
        "id": "KD44_K5k4lES"
      },
      "source": [
        "## train for 1 epoch"
      ]
    },
    {
      "cell_type": "code",
      "metadata": {
        "id": "cnXIP5uetdG2",
        "outputId": "a10e1c10-79a8-4bd4-c3b0-65a19de7464b",
        "colab": {
          "base_uri": "https://localhost:8080/",
          "height": 34
        }
      },
      "source": [
        "model.train()\n",
        "training_steps = int(len(X)/batch_size)+1\n",
        "losses = []\n",
        "# 1 epoch over X_train\n",
        "with tqdm(total=training_steps) as progress_bar:\n",
        "  for i in range(0, len(X), batch_size):\n",
        "    batch_X = X[i:i+batch_size]\n",
        "    batch_y = torch.LongTensor(y[i:i+batch_size]).cuda()\n",
        "    batch_q,batch_d= zip(*batch_X)\n",
        "\n",
        "\n",
        "    encoding = tokenizer(batch_q, batch_d,padding='max_length',truncation=\"longest_first\", max_length  = max_length,return_tensors='pt')\n",
        "    input_ids = encoding['input_ids'].cuda()\n",
        "    attention_mask = encoding['attention_mask'].cuda()\n",
        "    token_type_ids = encoding['token_type_ids'].cuda()\n",
        "\n",
        "    # loss, logits = model(input_ids= input_ids,attention_mask=attention_mask, token_type_ids=token_type_ids,next_sentence_label=batch_y)\n",
        "    logits = model(input_ids= input_ids,attention_mask=attention_mask, token_type_ids=token_type_ids)[0]\n",
        "\n",
        "    # pairwise ranking loss\n",
        "    loss = torch.mean(1. - logits.softmax(dim=1)[:, 0])\n",
        "\n",
        "\n",
        "    loss.backward()\n",
        "    optimizer.step()\n",
        "    model.zero_grad()\n",
        "\n",
        "    losses.append(loss.item())\n",
        "    avg_loss = sum(losses)/len(losses)\n",
        "    progress_bar.update(1)\n",
        "    progress_bar.set_description(\"avg loss so far = {}\".format(avg_loss))\n",
        "\n"
      ],
      "execution_count": null,
      "outputs": [
        {
          "output_type": "stream",
          "text": [
            "avg loss so far = 0.0034549802625585733: 100%|██████████| 3021/3021 [1:16:15<00:00,  1.51s/it]\n"
          ],
          "name": "stderr"
        }
      ]
    },
    {
      "cell_type": "markdown",
      "metadata": {
        "id": "g5IDqcqD5pPJ"
      },
      "source": [
        "# save or load model"
      ]
    },
    {
      "cell_type": "code",
      "metadata": {
        "id": "MxbQDrubR2ag"
      },
      "source": [
        "path = \"drive/My Drive/BERT_FINE_TUNING_TREC2020/backg_2019_pairwise_e2\""
      ],
      "execution_count": null,
      "outputs": []
    },
    {
      "cell_type": "code",
      "metadata": {
        "id": "CgqHmPLnR6gG"
      },
      "source": [
        "torch.save(model, path)"
      ],
      "execution_count": null,
      "outputs": []
    },
    {
      "cell_type": "code",
      "metadata": {
        "id": "K_Buf-3qVl5E"
      },
      "source": [
        "model = torch.load(path)\n"
      ],
      "execution_count": null,
      "outputs": []
    },
    {
      "cell_type": "markdown",
      "metadata": {
        "id": "z_SDK_wn5vdG"
      },
      "source": [
        "# load testing data"
      ]
    },
    {
      "cell_type": "code",
      "metadata": {
        "id": "5ibUBSkOVmcC",
        "outputId": "1f576077-3128-494d-ebae-e72a20d877fb",
        "colab": {
          "base_uri": "https://localhost:8080/",
          "height": 357
        }
      },
      "source": [
        "test_articles_linking = dict()\n",
        "with open('drive/My Drive/TREC 2020 News/Data/2019 Topics/newsir19-qrels-background.txt','r') as file:\n",
        "  for line in file.readlines():\n",
        "    splitted = line.split()\n",
        "    links = []\n",
        "    if(splitted[0] in test_articles_linking):\n",
        "      links = test_articles_linking[splitted[0]]\n",
        "    links.append([splitted[2],splitted[3]])\n",
        "    links = sorted(links,key= lambda x: int(x[1]),reverse=True)\n",
        "    test_articles_linking[splitted[0]] = links\n",
        "\n",
        "\n",
        "with open('drive/My Drive/TREC 2020 News/Data/2019 Topics/newsir19-background-linking-topics_with_xmlroot.xml') as fd:\n",
        "    doc = xmltodict.parse(fd.read(), process_namespaces=True)\n",
        "article_entity_mapping_dict = dict()\n",
        "test_num_to_docid_mapping = dict()\n",
        "for article in doc['root']['top']:\n",
        "  # print(article['num'])\n",
        "  article_num_cleaned = article['num'].split(':')[1].strip()\n",
        "  test_num_to_docid_mapping[article_num_cleaned] = article['docid']\n",
        "\n",
        "test_article_contents_dict = dict()\n",
        "with open('drive/My Drive/entity ranking/Experiments/processed_data/backgroundlinking_article_contents_TREC2019.json', 'r') as fp:\n",
        "    test_article_contents_dict  = json.load(fp)"
      ],
      "execution_count": null,
      "outputs": [
        {
          "output_type": "error",
          "ename": "KeyboardInterrupt",
          "evalue": "ignored",
          "traceback": [
            "\u001b[0;31m---------------------------------------------------------------------------\u001b[0m",
            "\u001b[0;31mKeyboardInterrupt\u001b[0m                         Traceback (most recent call last)",
            "\u001b[0;32m<ipython-input-5-bfebbd731100>\u001b[0m in \u001b[0;36m<module>\u001b[0;34m()\u001b[0m\n\u001b[1;32m     22\u001b[0m \u001b[0mtest_article_contents_dict\u001b[0m \u001b[0;34m=\u001b[0m \u001b[0mdict\u001b[0m\u001b[0;34m(\u001b[0m\u001b[0;34m)\u001b[0m\u001b[0;34m\u001b[0m\u001b[0;34m\u001b[0m\u001b[0m\n\u001b[1;32m     23\u001b[0m \u001b[0;32mwith\u001b[0m \u001b[0mopen\u001b[0m\u001b[0;34m(\u001b[0m\u001b[0;34m'drive/My Drive/entity ranking/Experiments/processed_data/backgroundlinking_article_contents_TREC2019.json'\u001b[0m\u001b[0;34m,\u001b[0m \u001b[0;34m'r'\u001b[0m\u001b[0;34m)\u001b[0m \u001b[0;32mas\u001b[0m \u001b[0mfp\u001b[0m\u001b[0;34m:\u001b[0m\u001b[0;34m\u001b[0m\u001b[0;34m\u001b[0m\u001b[0m\n\u001b[0;32m---> 24\u001b[0;31m     \u001b[0mtest_article_contents_dict\u001b[0m  \u001b[0;34m=\u001b[0m \u001b[0mjson\u001b[0m\u001b[0;34m.\u001b[0m\u001b[0mload\u001b[0m\u001b[0;34m(\u001b[0m\u001b[0mfp\u001b[0m\u001b[0;34m)\u001b[0m\u001b[0;34m\u001b[0m\u001b[0;34m\u001b[0m\u001b[0m\n\u001b[0m",
            "\u001b[0;32m/usr/lib/python3.6/json/__init__.py\u001b[0m in \u001b[0;36mload\u001b[0;34m(fp, cls, object_hook, parse_float, parse_int, parse_constant, object_pairs_hook, **kw)\u001b[0m\n\u001b[1;32m    294\u001b[0m \u001b[0;34m\u001b[0m\u001b[0m\n\u001b[1;32m    295\u001b[0m     \"\"\"\n\u001b[0;32m--> 296\u001b[0;31m     return loads(fp.read(),\n\u001b[0m\u001b[1;32m    297\u001b[0m         \u001b[0mcls\u001b[0m\u001b[0;34m=\u001b[0m\u001b[0mcls\u001b[0m\u001b[0;34m,\u001b[0m \u001b[0mobject_hook\u001b[0m\u001b[0;34m=\u001b[0m\u001b[0mobject_hook\u001b[0m\u001b[0;34m,\u001b[0m\u001b[0;34m\u001b[0m\u001b[0;34m\u001b[0m\u001b[0m\n\u001b[1;32m    298\u001b[0m         \u001b[0mparse_float\u001b[0m\u001b[0;34m=\u001b[0m\u001b[0mparse_float\u001b[0m\u001b[0;34m,\u001b[0m \u001b[0mparse_int\u001b[0m\u001b[0;34m=\u001b[0m\u001b[0mparse_int\u001b[0m\u001b[0;34m,\u001b[0m\u001b[0;34m\u001b[0m\u001b[0;34m\u001b[0m\u001b[0m\n",
            "\u001b[0;32m/usr/lib/python3.6/codecs.py\u001b[0m in \u001b[0;36mdecode\u001b[0;34m(self, input, final)\u001b[0m\n\u001b[1;32m    316\u001b[0m         \u001b[0;32mraise\u001b[0m \u001b[0mNotImplementedError\u001b[0m\u001b[0;34m\u001b[0m\u001b[0;34m\u001b[0m\u001b[0m\n\u001b[1;32m    317\u001b[0m \u001b[0;34m\u001b[0m\u001b[0m\n\u001b[0;32m--> 318\u001b[0;31m     \u001b[0;32mdef\u001b[0m \u001b[0mdecode\u001b[0m\u001b[0;34m(\u001b[0m\u001b[0mself\u001b[0m\u001b[0;34m,\u001b[0m \u001b[0minput\u001b[0m\u001b[0;34m,\u001b[0m \u001b[0mfinal\u001b[0m\u001b[0;34m=\u001b[0m\u001b[0;32mFalse\u001b[0m\u001b[0;34m)\u001b[0m\u001b[0;34m:\u001b[0m\u001b[0;34m\u001b[0m\u001b[0;34m\u001b[0m\u001b[0m\n\u001b[0m\u001b[1;32m    319\u001b[0m         \u001b[0;31m# decode input (taking the buffer into account)\u001b[0m\u001b[0;34m\u001b[0m\u001b[0;34m\u001b[0m\u001b[0;34m\u001b[0m\u001b[0m\n\u001b[1;32m    320\u001b[0m         \u001b[0mdata\u001b[0m \u001b[0;34m=\u001b[0m \u001b[0mself\u001b[0m\u001b[0;34m.\u001b[0m\u001b[0mbuffer\u001b[0m \u001b[0;34m+\u001b[0m \u001b[0minput\u001b[0m\u001b[0;34m\u001b[0m\u001b[0;34m\u001b[0m\u001b[0m\n",
            "\u001b[0;31mKeyboardInterrupt\u001b[0m: "
          ]
        }
      ]
    },
    {
      "cell_type": "code",
      "metadata": {
        "id": "DSwuxVJ8Vs3b"
      },
      "source": [
        "all_article_ids = np.load(\"/content/drive/My Drive/trec_files/all_article_ids.npy\")"
      ],
      "execution_count": null,
      "outputs": []
    },
    {
      "cell_type": "code",
      "metadata": {
        "id": "ku-wm0KHVvCY"
      },
      "source": [
        "test_articles_linking = defaultdict(list)\n",
        "errors = []\n",
        "with open('result_wapo_bow_18.txt','r') as file:\n",
        "  for line in file.readlines():\n",
        "    splitted = line.split()\n",
        "    if(splitted[2] in all_article_ids):\n",
        "      test_articles_linking[splitted[0]].append([splitted[2],splitted[4]])\n",
        "    else:\n",
        "      errors.append(splitted[0])"
      ],
      "execution_count": null,
      "outputs": []
    },
    {
      "cell_type": "code",
      "metadata": {
        "id": "V-0pwqaI_05F",
        "outputId": "8d1e32a4-4d7b-472d-a932-c4d5cc82b9aa",
        "colab": {
          "base_uri": "https://localhost:8080/",
          "height": 34
        }
      },
      "source": [
        "needed_articles_ids"
      ],
      "execution_count": null,
      "outputs": [
        {
          "output_type": "execute_result",
          "data": {
            "text/plain": [
              "[]"
            ]
          },
          "metadata": {
            "tags": []
          },
          "execution_count": 17
        }
      ]
    },
    {
      "cell_type": "code",
      "metadata": {
        "id": "SRGShV13Vxqx"
      },
      "source": [
        "# a list of all needed article ids to preform re-ranking\n",
        "needed_articles_ids = []\n",
        "for doc_num in test_articles_linking.keys():\n",
        "  needed_articles_ids.append(num_to_docid_mapping[doc_num])\n",
        "\n",
        "  for article_tuple in test_articles_linking[doc_num]:\n",
        "    needed_articles_ids.append(article_tuple[0])"
      ],
      "execution_count": null,
      "outputs": []
    },
    {
      "cell_type": "code",
      "metadata": {
        "id": "Tvg7FHvTVzgM",
        "outputId": "bc891e71-16c9-4ec6-f688-21f3054ca699",
        "colab": {
          "base_uri": "https://localhost:8080/",
          "height": 425
        }
      },
      "source": [
        "import csv\n",
        "csv.field_size_limit(100000000)\n",
        "file_path = 'drive/My Drive/entity ranking/cleaned_washington_data/washington_cleaned.csv'\n",
        "article_contents_dict = dict()\n",
        "csv_file = open(file_path)\n",
        "csv_reader = csv.reader(csv_file)\n",
        "for i,row in enumerate(csv_reader):\n",
        "  if(row[0] in needed_articles_ids):\n",
        "    article_contents_dict[row[0]] = row[1]\n",
        "  if(i%25000 == 0):\n",
        "    print(i)\n",
        "csv_file.close()"
      ],
      "execution_count": null,
      "outputs": [
        {
          "output_type": "stream",
          "text": [
            "0\n",
            "25000\n",
            "50000\n",
            "75000\n",
            "100000\n",
            "125000\n",
            "150000\n",
            "175000\n",
            "200000\n",
            "225000\n",
            "250000\n",
            "275000\n",
            "300000\n",
            "325000\n",
            "350000\n",
            "375000\n",
            "400000\n",
            "425000\n",
            "450000\n",
            "475000\n",
            "500000\n",
            "525000\n",
            "550000\n",
            "575000\n"
          ],
          "name": "stdout"
        }
      ]
    },
    {
      "cell_type": "markdown",
      "metadata": {
        "id": "cwmXj_ZW5z6e"
      },
      "source": [
        "# preprocess testing data\n"
      ]
    },
    {
      "cell_type": "code",
      "metadata": {
        "id": "U9EOxerzV0-b"
      },
      "source": [
        "test_query_X = [] #  text_1\n",
        "test_docs_X = [] # text_2\n",
        "test_y = []\n",
        "test_inds_q = []\n",
        "test_inds_d = []\n",
        "\n",
        "\n",
        "for query_num,articles_list in test_articles_linking.items():\n",
        "  for article_tuple in articles_list:\n",
        "\n",
        "\n",
        "    test_query_X.append(crop_doc(article_contents_dict[num_to_docid_mapping[query_num]]))\n",
        "    test_docs_X.append(crop_doc(article_contents_dict[article_tuple[0]]))\n",
        "    # label = int(int(article_tuple[1]) == 0)\n",
        "    # test_y.append([label])\n",
        "\n",
        "    test_inds_q.append(query_num)\n",
        "    test_inds_d.append(article_tuple[0])\n",
        "\n",
        "# test_X = list(map(list, zip(test_query_X, test_docs_X)))"
      ],
      "execution_count": null,
      "outputs": []
    },
    {
      "cell_type": "markdown",
      "metadata": {
        "id": "sXpF8a9Z53p2"
      },
      "source": [
        "# getting predictions"
      ]
    },
    {
      "cell_type": "code",
      "metadata": {
        "id": "xm6EJYLLV3Jj",
        "outputId": "97496a3a-c5be-4fcd-a294-d6f54febdd5a",
        "colab": {
          "base_uri": "https://localhost:8080/",
          "height": 34
        }
      },
      "source": [
        "model.eval()\n",
        "eval_steps = int(len(test_query_X)/batch_size)+1\n",
        "list_of_logits = []\n",
        "\n",
        "with tqdm(total=eval_steps) as progress_bar:\n",
        "  for i in range(0, len(test_query_X), batch_size):\n",
        "    batch_q = test_query_X[i:i+batch_size]\n",
        "    batch_d = test_docs_X[i:i+batch_size]\n",
        "\n",
        "    batch_y = torch.LongTensor(test_y[i:i+batch_size]).cuda()\n",
        "\n",
        "\n",
        "    encoding = tokenizer(batch_q, batch_d,padding='max_length',truncation=\"longest_first\", max_length  = max_length,return_tensors='pt')\n",
        "    input_ids = encoding['input_ids'].cuda()\n",
        "    attention_mask = encoding['attention_mask'].cuda()\n",
        "    token_type_ids = encoding['token_type_ids'].cuda()\n",
        "\n",
        "    logits = model(input_ids= input_ids,attention_mask=attention_mask, token_type_ids=token_type_ids)[0]\n",
        "    list_of_logits.extend(logits.tolist())\n",
        "\n",
        "    progress_bar.update(1)\n"
      ],
      "execution_count": null,
      "outputs": [
        {
          "output_type": "stream",
          "text": [
            "100%|█████████▉| 625/626 [05:55<00:00,  1.76it/s]\n"
          ],
          "name": "stderr"
        }
      ]
    },
    {
      "cell_type": "markdown",
      "metadata": {
        "id": "fs29e3Na5-RB"
      },
      "source": [
        "# evaluation using trectools library to get ndcg@5"
      ]
    },
    {
      "cell_type": "code",
      "metadata": {
        "id": "qXjQm-9qYrj1",
        "outputId": "5c52c0d1-40f7-4cbe-e876-f102f1f73081",
        "colab": {
          "base_uri": "https://localhost:8080/",
          "height": 530
        }
      },
      "source": [
        "!pip install trectools"
      ],
      "execution_count": null,
      "outputs": [
        {
          "output_type": "stream",
          "text": [
            "Collecting trectools\n",
            "  Downloading https://files.pythonhosted.org/packages/bf/c7/8c6dfc2db67997bc9582e52bb8c994e57d8adbe1af5a1f02f88e1faa519b/trectools-0.0.44.tar.gz\n",
            "Requirement already satisfied: pandas>=0.15.0 in /usr/local/lib/python3.6/dist-packages (from trectools) (1.0.5)\n",
            "Requirement already satisfied: numpy>=1.0.0 in /usr/local/lib/python3.6/dist-packages (from trectools) (1.18.5)\n",
            "Requirement already satisfied: scikit-learn>=0.15 in /usr/local/lib/python3.6/dist-packages (from trectools) (0.22.2.post1)\n",
            "Requirement already satisfied: scipy>=0.10.0 in /usr/local/lib/python3.6/dist-packages (from trectools) (1.4.1)\n",
            "Collecting sarge>=0.1.1\n",
            "  Downloading https://files.pythonhosted.org/packages/2c/39/d5994d2060edef17c03e70eb8d9c4ac44ffae0294fe7bb3dc953e67133d8/sarge-0.1.6.tar.gz\n",
            "Requirement already satisfied: lxml>=3.6.0 in /usr/local/lib/python3.6/dist-packages (from trectools) (4.2.6)\n",
            "Requirement already satisfied: bs4>=0.0.0.1 in /usr/local/lib/python3.6/dist-packages (from trectools) (0.0.1)\n",
            "Requirement already satisfied: matplotlib>=1.5 in /usr/local/lib/python3.6/dist-packages (from trectools) (3.2.2)\n",
            "Requirement already satisfied: python-dateutil>=2.6.1 in /usr/local/lib/python3.6/dist-packages (from pandas>=0.15.0->trectools) (2.8.1)\n",
            "Requirement already satisfied: pytz>=2017.2 in /usr/local/lib/python3.6/dist-packages (from pandas>=0.15.0->trectools) (2018.9)\n",
            "Requirement already satisfied: joblib>=0.11 in /usr/local/lib/python3.6/dist-packages (from scikit-learn>=0.15->trectools) (0.16.0)\n",
            "Requirement already satisfied: beautifulsoup4 in /usr/local/lib/python3.6/dist-packages (from bs4>=0.0.0.1->trectools) (4.6.3)\n",
            "Requirement already satisfied: cycler>=0.10 in /usr/local/lib/python3.6/dist-packages (from matplotlib>=1.5->trectools) (0.10.0)\n",
            "Requirement already satisfied: kiwisolver>=1.0.1 in /usr/local/lib/python3.6/dist-packages (from matplotlib>=1.5->trectools) (1.2.0)\n",
            "Requirement already satisfied: pyparsing!=2.0.4,!=2.1.2,!=2.1.6,>=2.0.1 in /usr/local/lib/python3.6/dist-packages (from matplotlib>=1.5->trectools) (2.4.7)\n",
            "Requirement already satisfied: six>=1.5 in /usr/local/lib/python3.6/dist-packages (from python-dateutil>=2.6.1->pandas>=0.15.0->trectools) (1.15.0)\n",
            "Building wheels for collected packages: trectools, sarge\n",
            "  Building wheel for trectools (setup.py) ... \u001b[?25l\u001b[?25hdone\n",
            "  Created wheel for trectools: filename=trectools-0.0.44-cp36-none-any.whl size=26300 sha256=9ae3f593e3f5c2492fa8321fbf2535a9e584e319527b5fd329f2f343fcb650e8\n",
            "  Stored in directory: /root/.cache/pip/wheels/aa/92/11/5468a137dda8190aaecb450bf60c3a505578833c8a4cdbd37a\n",
            "  Building wheel for sarge (setup.py) ... \u001b[?25l\u001b[?25hdone\n",
            "  Created wheel for sarge: filename=sarge-0.1.6-cp36-none-any.whl size=19052 sha256=27b05e7a2f2d77aa1ae05b488a3e0969483e2c67fc86d82aa3631c5ee3649d17\n",
            "  Stored in directory: /root/.cache/pip/wheels/1a/df/8d/6f4893750b5ad722ee6f72c972f493d4936be2f1893fe379bf\n",
            "Successfully built trectools sarge\n",
            "Installing collected packages: sarge, trectools\n",
            "Successfully installed sarge-0.1.6 trectools-0.0.44\n"
          ],
          "name": "stdout"
        }
      ]
    },
    {
      "cell_type": "markdown",
      "metadata": {
        "id": "ilmxMVeF6b84"
      },
      "source": [
        "### write predictions to file"
      ]
    },
    {
      "cell_type": "code",
      "metadata": {
        "id": "4B-QVwA-Yux5"
      },
      "source": [
        "for i in range(len(test_inds_q)):\n",
        "  line ='%s Q0 %s 0 %f OzU_wiki' % (test_inds_q[i],test_inds_d[i],list_of_logits[i][0])\n",
        "\n",
        "  with open('bl_1_2019_finetune2','a') as file:\n",
        "    file.write(line)\n",
        "    file.write('\\n')"
      ],
      "execution_count": null,
      "outputs": []
    },
    {
      "cell_type": "markdown",
      "metadata": {
        "id": "OhHkCQHp6evO"
      },
      "source": [
        "### we need the original qrels to compare our run "
      ]
    },
    {
      "cell_type": "code",
      "metadata": {
        "id": "zDDdy8i7hjrk",
        "outputId": "dad24cc2-941e-439d-d8df-2277f1c17a74",
        "colab": {
          "base_uri": "https://localhost:8080/",
          "height": 54
        }
      },
      "source": [
        "from trectools import TrecQrel, TrecRun, TrecEval\n",
        "run = TrecRun('bl_1_2019_finetune2')\n",
        "qrels = TrecQrel('drive/My Drive/TREC 2020 News/Data/2018 Topics/background qrels.exp-gains.txt')\n",
        "trec_eval = TrecEval(run, qrels)\n",
        "trec_eval.get_ndcg(5)"
      ],
      "execution_count": null,
      "outputs": [
        {
          "output_type": "execute_result",
          "data": {
            "text/plain": [
              "0.34212823329294684"
            ]
          },
          "metadata": {
            "tags": []
          },
          "execution_count": 31
        }
      ]
    }
  ]
}